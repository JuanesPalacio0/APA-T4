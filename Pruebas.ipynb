{
 "cells": [
  {
   "cell_type": "code",
   "execution_count": 1,
   "id": "aba2687a-1942-4737-9466-9e5e7727991d",
   "metadata": {},
   "outputs": [
    {
     "name": "stdout",
     "output_type": "stream",
     "text": [
      "Trying:\n",
      "    rand = Aleat(m=32, a=9, c=13, X0=11)\n",
      "Expecting nothing\n",
      "ok\n",
      "Trying:\n",
      "    for _ in range(4):\n",
      "        print(next(rand))\n",
      "Expecting:\n",
      "    16\n",
      "    29\n",
      "    18\n",
      "    15\n",
      "ok\n",
      "Trying:\n",
      "    rand(29)\n",
      "Expecting nothing\n",
      "ok\n",
      "Trying:\n",
      "    for _ in range(4):\n",
      "        print(next(rand))\n",
      "Expecting:\n",
      "    18\n",
      "    15\n",
      "    20\n",
      "    1\n",
      "ok\n",
      "Trying:\n",
      "    rand = aleat(m=64, a=5, c=46, X0=36)\n",
      "Expecting nothing\n",
      "ok\n",
      "Trying:\n",
      "    for _ in range(4):\n",
      "        print(next(rand))\n",
      "Expecting:\n",
      "    34\n",
      "    24\n",
      "    38\n",
      "    44\n",
      "ok\n",
      "Trying:\n",
      "    rand.send(24)\n",
      "Expecting:\n",
      "    38\n",
      "ok\n",
      "Trying:\n",
      "    for _ in range(4):\n",
      "        print(next(rand))\n",
      "Expecting:\n",
      "    44\n",
      "    10\n",
      "    32\n",
      "    14\n",
      "ok\n",
      "4 items had no tests:\n",
      "    aleatorios\n",
      "    aleatorios.Aleat.__call__\n",
      "    aleatorios.Aleat.__init__\n",
      "    aleatorios.Aleat.__next__\n",
      "\u001b[32m2 items passed all tests:\u001b[0m\n",
      " \u001b[32m  4 tests in aleatorios.Aleat\u001b[0m\n",
      " \u001b[32m  4 tests in aleatorios.aleat\u001b[0m\n",
      "8 tests in 6 items.\n",
      "\u001b[32m8 passed\u001b[0m.\n",
      "\u001b[1;32mTest passed.\u001b[0m\n"
     ]
    },
    {
     "data": {
      "text/plain": [
       "TestResults(failed=0, attempted=8)"
      ]
     },
     "execution_count": 1,
     "metadata": {},
     "output_type": "execute_result"
    }
   ],
   "source": [
    "import doctest\n",
    "import aleatorios  # asegúrate de que el nombre del archivo es aleatorios.py\n",
    "\n",
    "doctest.testmod(aleatorios, verbose=True)\n"
   ]
  }
 ],
 "metadata": {
  "kernelspec": {
   "display_name": "Python 3 (ipykernel)",
   "language": "python",
   "name": "python3"
  },
  "language_info": {
   "codemirror_mode": {
    "name": "ipython",
    "version": 3
   },
   "file_extension": ".py",
   "mimetype": "text/x-python",
   "name": "python",
   "nbconvert_exporter": "python",
   "pygments_lexer": "ipython3",
   "version": "3.13.2"
  }
 },
 "nbformat": 4,
 "nbformat_minor": 5
}
